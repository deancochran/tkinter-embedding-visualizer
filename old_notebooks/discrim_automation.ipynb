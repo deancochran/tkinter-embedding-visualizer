{
 "cells": [
  {
   "cell_type": "markdown",
   "id": "3dbca528-c693-4856-9a05-c70d793c136c",
   "metadata": {},
   "source": [
    "# Automating Embedding Generation for discrimination testing of any dataset (Current Work)\n",
    "\n",
    "As shown in the previous notebooks, generating embeddings for hetergenous graphs can easily be achieved with the help of the metapath2vec method.\n",
    "\n",
    "To remind you of the prerequisites, you will need:\n",
    "- a metapath\n",
    "- an edge_index_dict\n",
    "- (optional) GPU device\n",
    "\n",
    "To automate this process for any dataset a collection of predefined functions are required to be defined"
   ]
  },
  {
   "cell_type": "markdown",
   "id": "e0a0e8f2-98c3-4c87-b91e-e4b3ec1d7b96",
   "metadata": {},
   "source": [
    "# The limitation of this approach\n",
    "\n",
    "For every dataset, two functions with need to be defined\n",
    "1. a function to get the edge index dictionary between node types\n",
    "2. a function to get the metapath to traverse indicies with"
   ]
  },
  {
   "cell_type": "code",
   "execution_count": 2,
   "id": "be88e7b3-1f71-46fb-b36e-d22090135149",
   "metadata": {},
   "outputs": [],
   "source": [
    "from dataset import load_ML100K\n",
    "\n",
    "def get_ml_100k_edge_index(path_to_data_dir):\n",
    "    ratings,_,_ = load_ML100K('../data/ml-100k/raw/ml-100k/')\n",
    "    edge_index_dict={\n",
    "        ('user','rates','movie'):torch.tensor([ratings['user_id'].tolist(),ratings['movie_id'].tolist()]),\n",
    "        ('movie','rev_rates','user'):torch.tensor([ratings['movie_id'].tolist(),ratings['user_id'].tolist()])\n",
    "    }\n",
    "    return edge_index_dict\n",
    "\n",
    "def get_ml_100k_metapath(path_to_data_dir):\n",
    "    metapath= [\n",
    "        ('user', 'rates', 'movie'),\n",
    "        ('movie', 'rev_rates', 'user'),\n",
    "    ]\n",
    "    return metapath\n"
   ]
  },
  {
   "cell_type": "markdown",
   "id": "8aefe0b0-d510-4a88-ab36-f5388b47dd28",
   "metadata": {},
   "source": [
    "# Once both functions are defined\n",
    "For every dataset, add both of the custom functions to the two wrapping functions"
   ]
  },
  {
   "cell_type": "code",
   "execution_count": null,
   "id": "6368b7de-5437-47d0-bff0-01798c97da24",
   "metadata": {},
   "outputs": [],
   "source": [
    "def get_edge_index(dataset='', path_to_data_dir):\n",
    "    if dataset == 'ml100k':\n",
    "        return get_ml_100k_edge_index(path_to_data_dir)\n",
    "    elif dataset == '':\n",
    "        raise Exception('not implemented yet')\n",
    "    else:\n",
    "        raise Exception('not implemented yet')\n",
    "\n",
    "def get_meta_path(dataset='')\n",
    "    if dataset == 'ml100k':\n",
    "        return get_ml_100k_metapath()\n",
    "    elif dataset == '':\n",
    "        raise Exception('not implemented yet')\n",
    "    else:\n",
    "        raise Exception('not implemented yet')\n"
   ]
  }
 ],
 "metadata": {
  "kernelspec": {
   "display_name": "Python 3 (ipykernel)",
   "language": "python",
   "name": "python3"
  },
  "language_info": {
   "codemirror_mode": {
    "name": "ipython",
    "version": 3
   },
   "file_extension": ".py",
   "mimetype": "text/x-python",
   "name": "python",
   "nbconvert_exporter": "python",
   "pygments_lexer": "ipython3",
   "version": "3.10.6"
  }
 },
 "nbformat": 4,
 "nbformat_minor": 5
}
